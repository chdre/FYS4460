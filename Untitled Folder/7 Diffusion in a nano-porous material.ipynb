{
 "cells": [
  {
   "cell_type": "raw",
   "metadata": {},
   "source": [
    "Hvordan kan du måle diffusjons konstnaten for an fluid med lav tetthet i et nanoporøst system:\n",
    "    - For å lage en fluid med lavere tetthet fjerner vi halvparten av partiklene i en gitt pore. I våre simulasjoner har vi laget et system med 20 potensielt overlappende sfærer med radius mellom 2 og 3 nm, med tilfeldige plasseringer, disse tilsammen utgjør poren i systemet. Vi har fjernet halvparten av partiklene i poren for å redusere tettheten. \n",
    "    - Ved å se på mean squared displacement til partiklene kan vi finne diffusjonskonstanten. Vi ser at msd blir lineær ganske tidlig i simulasjonen. Vi "
   ]
  }
 ],
 "metadata": {
  "kernelspec": {
   "display_name": "Python 3",
   "language": "python",
   "name": "python3"
  },
  "language_info": {
   "codemirror_mode": {
    "name": "ipython",
    "version": 3
   },
   "file_extension": ".py",
   "mimetype": "text/x-python",
   "name": "python",
   "nbconvert_exporter": "python",
   "pygments_lexer": "ipython3",
   "version": "3.7.7"
  }
 },
 "nbformat": 4,
 "nbformat_minor": 4
}
