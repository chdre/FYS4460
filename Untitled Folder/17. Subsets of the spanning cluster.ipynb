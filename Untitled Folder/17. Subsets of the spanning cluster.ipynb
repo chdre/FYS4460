{
 "cells": [
  {
   "cell_type": "markdown",
   "metadata": {},
   "source": [
    "### Scaling of subsets of the spanning cluster"
   ]
  },
  {
   "cell_type": "markdown",
   "metadata": {},
   "source": [
    "Generelt for et spanning cluster har vi mass scaling relation gitt ved\n",
    "\n",
    "\\begin{equation}\n",
    "M \\propto L^D,\n",
    "\\end{equation}\n",
    "\n",
    "hvor M er massen til spanning cluster, L er system størrelsen og D er fraktal dimensjonen til spanning cluster. Scaling hypotesen vår er at alle subsets i et spanning cluster må følge like skaleringsrelasjoner. Betydningen for dette er at dersom vi ser på et subset, en mindre del, av spanning cluster, så forventer vi at dette skalerer på samme måte. Vi kan sammenlikne dette med en selv similær fraktal; zoomer vi inn på et subset av clusteret, forventer vi å observere at subset er likt hele clusteret. \n",
    "\n",
    "For å argumentere for scaling av subsets trenger vi å introdusere noen subsets. \n",
    "\n",
    "#### Self avoiding path, SAP\n",
    "er en vei en virrevandrer kan gå gjennom spanning cluster fra den ene siden til den motsatte siden. Det finnes også maximum og minimum self avoiding path\n",
    "\n",
    "#### Backbone\n",
    "Er unionen av alle SAP\n",
    "\n",
    "Følgende må nødvendigvis stemme:\n",
    "\n",
    "\\begin{equation}\n",
    "L^1 \\leq M_{SAP,min} \\leq M_{SAP} \\leq M_{SAP,max} \\leq M_{BB} \\leq M \\leq L^d\n",
    "\\end{equation}\n",
    "\n",
    "hvor $L^1$ er veien rett over systemet. Intuitivt nok må massen til den minste SAP være mindre eller lik en spesifikk SAP, som igjen må være mindre eller lik største SAP. Backbone består av alle SAP og må være mindre eller lik den totale masse til clusteret, som igjen må være mindre eller lik massen til systemet. \n",
    "\n",
    "Hvis dette argumentet skal holde, så kan vi argumentere for at det samme gjelder "
   ]
  },
  {
   "cell_type": "code",
   "execution_count": null,
   "metadata": {},
   "outputs": [],
   "source": []
  }
 ],
 "metadata": {
  "kernelspec": {
   "display_name": "Python 3",
   "language": "python",
   "name": "python3"
  },
  "language_info": {
   "codemirror_mode": {
    "name": "ipython",
    "version": 3
   },
   "file_extension": ".py",
   "mimetype": "text/x-python",
   "name": "python",
   "nbconvert_exporter": "python",
   "pygments_lexer": "ipython3",
   "version": "3.7.6"
  }
 },
 "nbformat": 4,
 "nbformat_minor": 4
}
