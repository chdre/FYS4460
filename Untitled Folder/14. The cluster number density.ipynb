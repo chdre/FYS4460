{
 "cells": [
  {
   "cell_type": "markdown",
   "metadata": {},
   "source": [
    "### Introduce the cluster number density "
   ]
  },
  {
   "cell_type": "markdown",
   "metadata": {},
   "source": [
    "For et endelig dimensjonert system er cluster number density definert som\n",
    "\n",
    "\\begin{equation}\n",
    "n(s,p) = \\sum_t g_{s,t} p^2(1 - p)^{t}\n",
    "\\end{equation}\n",
    "\n",
    "hvor $t$ er antall naboer for kombinasjonen og $g_{s,t}$ er multiplisiteten til det spesifikke clusteret."
   ]
  }
 ],
 "metadata": {
  "kernelspec": {
   "display_name": "Python 3",
   "language": "python",
   "name": "python3"
  },
  "language_info": {
   "codemirror_mode": {
    "name": "ipython",
    "version": 3
   },
   "file_extension": ".py",
   "mimetype": "text/x-python",
   "name": "python",
   "nbconvert_exporter": "python",
   "pygments_lexer": "ipython3",
   "version": "3.7.7"
  }
 },
 "nbformat": 4,
 "nbformat_minor": 4
}
