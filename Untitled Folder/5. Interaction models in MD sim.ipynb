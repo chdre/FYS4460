{
 "cells": [
  {
   "cell_type": "raw",
   "metadata": {},
   "source": [
    "Introduce the three potential models you studied:\n",
    "    LJ: $V(r) = 4\\epsilon[1/(r/\\sigma)^{12} - 1/(r/\\sigma)^6]\n",
    "    SW: V = \\sum_i \\sum_j V_2(r_{ij}) + \\sum_i \\sum_j \\sum_k V_3(r_{ij}, r_{ik}, \\theta_{ijk}),\n",
    "        hvor V_2(r_{ij} = A_{ij}\\epsilon_{ij}\\left[B_{ij}\\left(\\frac{\\sigma_{ij}}{r_{ij}}\\right)^{p_{ij}} - \\left(\\frac{\\sigma_{ij}}{r_{ij}}\\right)^{q_{ij}}\\right] \\exp\\left(\\frac{\\sigma_{ij}}{r_{ij} - a_{ij}\\sigma_{ij}}\\right) og V_3(r_{ij}, r_{ik}, \\theta_{ijk}) = \\lambda_{ijk}\\epsilon_{ijk}\\left[\\cos\\theta_{ijk} - \\cos\\theta_{ijk,0}\\right]^2 \\exp\\left(\\frac{\\gamma_{ij}\\sigma_{ij}}{r_{ij} - a_{ij}\\sigma_{ij}}\\right)\\exp\\left(\\frac{\\gamma_{ik}\\sigma_{ik}}{r_{ik} - a_{ik}\\sigma_{ik}}\\right)\n",
    "        hvor $V_2$ er to-partikkel leddet og $V_3$ er tre-partikkel leddet. $\\sigma_{ij}$ er stress, $\\theta_{ijk} er vinkel mellom partikler. a_{ij} er cutoff\n",
    "    SPCE: $V_{ij} = \\sum_i \\sum_j \\frac{k_c q_i q_j}{r_{ij}} + 4\\epsilon ((\\frac{\\sigma}{r_{OO, ij})^{12} - (\\frac{\\sigma}{r_{OO,ij})^6)$, hvor $r_{ij}$ er avstanden mellom punktladninger. $k_c$ er Coulomb konstanten, q er ladning.\n",
    "    \n",
    "    - LJ tar for seg intermolekylære interaksjoner mellom to partikler\n",
    "    - SW tar for seg intermolekylære interaksjoner mellom to og tre partikler, og vinkelen mellom de partiklene jk relativ til partikkel i. Topartikkel leddet er på samme form som LJ, men med en faktor\n",
    "    - SPCE tar for seg intermolekylære interaksjoner mellom to partikler og de elektrostatiske kreftene mellom dem. Topartikkel interaksjonen er på samme form som LJ\n",
    "    \n",
    "Diskutere likheter og ulikheter i resultatene:\n",
    "\n",
    "Likheter/ulikheter i initialisering:\n",
    "    - Argon: for å regne ut g(r) og D(T) brukte vi nve. Når vi termaliserte systemet brukte vi Berendsen og nvt \n",
    "        - Berendsen og nvt (___PLOT___): hvor Berendsen kun skalerer hastighetene ved hvert tidssteg, mens nvt bruker Nose/Hoover thermostatting og tidsintegrasjon. \n",
    "        - LJ enheter\n",
    "        - Temperatur 1.0, 1.5, 2.0, 2.5, 3.0\n",
    "    - Si (SW): \n",
    "        - nvt for D(T)\n",
    "        - Metal enheter\n",
    "        - Temperatur \n",
    "    - SPCE:\n",
    "        - npt for D(T) og g(r)\n",
    "\n",
    "Likheter/ulikheter i effektivitet:\n",
    "    - LJ er raskere enn SPCE og SW. Det er færre ledd og den tar kun for seg topartikkel interaksjoner. \n",
    "    - SW er langt raskere enn SPCE, som forteller oss at de elektrostatiske kreftene er langt mer krevende å regne ut enn trepartikkel interaksjonene.\n",
    "\n",
    "Likheter/uliketer g(r):\n",
    "    - Justert tettheten for Argon, temperatur => vanskelig å få termalisert systemet. Justert T for vann\n",
    "    - Godt definert for Argon for lav og høy temperatur, gir det vi forventer. For vann (SPCE) ser vi omtrent samme graf for gass, væske og solid; setter ekstreme temperaturer (1 og 2000 K) og observerer at oppførselen går mot det vi forventer. \n",
    "\n",
    "Likheter/ulikheter D(T):\n",
    "    - msd er lineær for hele simulasjonstiden for Argon, D(T) er tilnærmet lineær. Vi ser at diffusjonen er linear.\n",
    "    - msd for Si er lineær for samtlige temperaturer for $t > 9$. Vi ser at $D(T)$ er ustabil for $T \\approx 2500$ K, som er litt under 1000 K varmere enn smeltetemperaturen for Si under standard betingelser.\n",
    "    - msd for vann er omtrent lineær for $T > 1800$ K. Vi ser fra $D(T)$ at det forekommer faseoverganger rundt 273 og 380 K, slik som forventet. \n",
    "    - D(T) har omtrent samme verdier for Silisium og vann, begge deler er i solid og væske. Argon er i gass-fase, så D(T) er naturligvis større, ettersom diffusivitet er et mål på bevegelse over tid; det er mer bevegelse i en gass enn i væske/solid.\n",
    "    \n",
    "    VISKØSITETT\n",
    "\n",
    "    "
   ]
  },
  {
   "cell_type": "markdown",
   "metadata": {},
   "source": [
    "## Potensial\n",
    "\n",
    "#### Lennard jones\n",
    "\n",
    "\\begin{equation}\n",
    "V(r) = 4\\epsilon\\left(\\frac{1}{(r/\\sigma)^{12}} - \\frac{1}{(r/\\sigma)^6}\\right)\n",
    "\\end{equation}\n",
    "\n",
    "hvor det første leddet svarer til frastøtningskraften, hvor eksponenten 12 benyttes da det gir en god approksimasjon for oppførselen til Argon. Det andre leddet svarer til tiltrekning som følge av en dipol-dipol interaksjon. $\\sigma$ er den karakteristiske lengden, mens $\\epsilon$ er den karakterisiske energien. \n",
    "\n",
    "#### Stillinger-Weber\n",
    "\\begin{equation}\n",
    "V = \\sum_i \\sum_j V_2(r_{ij}) + \\sum_i \\sum_j \\sum_k V_3(r_{ij}, r_{ik}, \\theta_{ijk}),\n",
    "\\end{equation}\n",
    "\n",
    "hvor \n",
    "\n",
    "\\begin{equation}\n",
    "V_2(r_{ij} = A_{ij}\\epsilon_{ij}\\left[B_{ij}\\left(\\frac{\\sigma_{ij}}{r_{ij}}\\right)^{p_{ij}} - \\left(\\frac{\\sigma_{ij}}{r_{ij}}\\right)^{q_{ij}}\\right] \\exp\\left(\\frac{\\sigma_{ij}}{r_{ij} - a_{ij}\\sigma_{ij}}\\right)\n",
    "\\end{equation}\n",
    "\n",
    "og\n",
    "\n",
    "\\begin{equation}\n",
    "V_3(r_{ij}, r_{ik}, \\theta_{ijk}) = \\lambda_{ijk}\\epsilon_{ijk}\\left[\\cos\\theta_{ijk} - \\cos\\theta_{ijk,0}\\right]^2 \\exp\\left(\\frac{\\gamma_{ij}\\sigma_{ij}}{r_{ij} - a_{ij}\\sigma_{ij}}\\right)\\exp\\left(\\frac{\\gamma_{ik}\\sigma_{ik}}{r_{ik} - a_{ik}\\sigma_{ik}}\\right)\n",
    "\\end{equation}\n",
    "\n",
    "$V_2$ er to-partikkel leddet og $V_3$ er tre-partikkel leddet, $\\theta_{ijk}$ er vinkel mellom partikler og $a_{ij}$ er cutoff.\n",
    "\n",
    "#### SPCE\n",
    "\n",
    "\\begin{equation}\n",
    "V_{ij} = \\sum_i \\sum_j \\frac{k_c q_i q_j}{r_{ij}} + 4\\epsilon \\left(\\left(\\frac{\\sigma}{r_{OO, ij}}\\right)^{12} - \\left(\\frac{\\sigma}{r_{OO,ij}}\\right)^6 \\right)\n",
    "\\end{equation}\n",
    "\n",
    "SPCE tar for seg intermolekylære interaksjoner mellom to partikler og de elektrostatiske kreftene mellom dem. Topartikkel interaksjonen er på samme form som LJ."
   ]
  },
  {
   "cell_type": "markdown",
   "metadata": {},
   "source": [
    "### Initialisering\n",
    "\n",
    "Vi initialiserer systemet ved å velge posisjoner og hastigheter til partiklene. For potensialene vi brukte er det viktig at vi ikke plasserer partiklene for nærme, ettersom dette vil resultere i store frastøtningskrefter, som igjen vil være til at hastighetene blir veldig store når vi begynner å integrere systemet.\n",
    "\n",
    "Vi plasserer atomene jevnt i systemet ved å kontruere en unit cell med partikler. Unit cell blir så kopiert slik at den fyller hele systemet. \n",
    "\n",
    "#### Argon\n",
    "For LJ system vet vi at krystallstrukturen er lik en face centered cube, vi initialiserer derfor systemet. En FCC er slik at vi har en partikkel i $(0,0,0)$ og en partikkel i midten av flatene tilknyttet $(0,0,0)$. Hastighetene er uniformt fordelt.\n",
    "#### Si\n",
    "Atomene blir fordelt i diamant unit cells. Hastighetene er Gaussisk fordelte. "
   ]
  },
  {
   "cell_type": "markdown",
   "metadata": {},
   "source": [
    "## Effektivitet\n",
    "\n",
    "Vi opplever at LJ er raskere enn SPCE og SW. Det er færre ledd og den tar kun hensyn til topartikkel interaksjoner. SW er igjen langt raskere enn SPCE, noe som forteller oss at de elektrostatiske kreftene er langt mer tidkrevende å regne ut enn trepartikkel interaksjonene."
   ]
  },
  {
   "cell_type": "code",
   "execution_count": null,
   "metadata": {},
   "outputs": [],
   "source": []
  }
 ],
 "metadata": {
  "kernelspec": {
   "display_name": "Python 3",
   "language": "python",
   "name": "python3"
  },
  "language_info": {
   "codemirror_mode": {
    "name": "ipython",
    "version": 3
   },
   "file_extension": ".py",
   "mimetype": "text/x-python",
   "name": "python",
   "nbconvert_exporter": "python",
   "pygments_lexer": "ipython3",
   "version": "3.7.6"
  }
 },
 "nbformat": 4,
 "nbformat_minor": 4
}
