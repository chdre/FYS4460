{
 "cells": [
  {
   "cell_type": "markdown",
   "metadata": {},
   "source": [
    "# MD in the micro-canonical ensemble"
   ]
  },
  {
   "cell_type": "markdown",
   "metadata": {},
   "source": [
    "Initialization:\n",
    "    Setting velocities by deciding the temperature of the system, uniform or Gaussian distributed\n",
    "    Set cutoff for the potential energy, corresponding to when to calculate interactions between particles\n",
    "    Boundary conditions\n",
    "    Lattice: sette atomer i systemet\n",
    "        FCC - tegning\n",
    "        Tetthet\n",
    "Effekter fra initialisering:\n",
    "    Cutoff, stor/liten -> nøyaktighet/hastighet\n",
    "    Temperatur og tetthet:\n",
    "        høy temperatur, lav tetthet:\n",
    "            Høy energi/høye hastigheter -> lenger/kortere tid før stabilt? trenger termostat\n",
    "        lav temperatur, høy tetthet: \n",
    "            lav energi/lave hastigheter -> kortere tid før stabilt\n",
    "        lav temperatur, lav tetthet:\n",
    "            lav energi/lave hastigheter -> kort tid før stabilt\n",
    "        høy temperatur, høye tetthet:\n",
    "            høy energi/høye hastigheter -> lang tid før stabilt, trenger termostat\n",
    "    Grensebetingelser: hvis reflekterende vil \n",
    "    FCC: ?\n",
    "Temperaturmål:\n",
    "    Instantan temperatur:\n",
    "        \n",
    "Temperaturfluktuasjoner:\n",
    "    Temperaturen kan fluktuere mye dersom en eller flere partikler får særdeles høye hastigheter. Årsaken kan være at to\n",
    "    partikler kommer veldig nær hverandre, og frastøtningskraften vil være stor. Dersom vi gjør tidssteget mindre vil vi gjøre\n",
    "    finere beregninger, og følgelig kan vi fange opp partiklene før de er for nære hverandre.\n",
    "Termostater:\n",
    "    I hovedsak er \"jobben\" til en termostat å skalere hastighetene slik at vi unngår fluktuasjoner i temperaturen slik som \n",
    "    diskutert over, følgelig passer ikke de samme termostatenene for det kanoniske ensemble (NVT) For mikro-kanoniske antar at det er kollisjoner med et varmebad, slik at tempeturen kan forlate systemet og\n",
    "    gå over til varmebadet.\n",
    "    Berendsen: resetter temperaturen til en gruppe med atomer ved å reskalere hastigheten hvert tidssteg. Skaleringen følger\n",
    "    $dT/dt = (T_0 - T)/\\tau$, hvor $\\tau$ er en tidskonstant. \n",
    "    Andersen: Skalerer hastighetene s.a. $c\\sum_i m v_i^2 = 3/2 Nk_B T$ for å tvinge systemet i temperatur T. Kan gi feil \n",
    "    diffusjonskonstant\n",
    "    Nose-Hoover (NVT): Kanoniske system, ikke varmebad, men en imaginær partikkel.\n",
    "    Bruker typisk termostater for å avslappe systemet slik at det kommer i en tilstand med konstant tilnærmet konstant energi,\n",
    "    og følgelig temperatur, før vi begynner utregningene vi er interessert i."
   ]
  }
 ],
 "metadata": {
  "kernelspec": {
   "display_name": "Python 3",
   "language": "python",
   "name": "python3"
  },
  "language_info": {
   "codemirror_mode": {
    "name": "ipython",
    "version": 3
   },
   "file_extension": ".py",
   "mimetype": "text/x-python",
   "name": "python",
   "nbconvert_exporter": "python",
   "pygments_lexer": "ipython3",
   "version": "3.7.3"
  }
 },
 "nbformat": 4,
 "nbformat_minor": 2
}
