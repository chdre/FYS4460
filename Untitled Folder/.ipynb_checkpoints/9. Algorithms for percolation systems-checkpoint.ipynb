{
 "cells": [
  {
   "cell_type": "markdown",
   "metadata": {},
   "source": [
    "### Hvordan lager vi et perkolasjonssytem for simuleringer?"
   ]
  },
  {
   "cell_type": "markdown",
   "metadata": {},
   "source": [
    "For å sette opp et perkolasjonssystem genererer vi en $LxL$ matrise av tilfeldige tall mellom 0 og 1. Vi definerer så en sannsynlighet $p$ for at et site (en grid cell i matrisen) er okkupert, dvs. hvorvidt vi tillater at en virrevandrer kan bevege seg på sitet. p er tilsvarende porositeten til systemet, dersom vi ser på okkuperte sites som hull, og resten matrix. Vi endrer så alle elementene i matrisen til binære verdier avhengig av om den tilfeldige verdien i matrisen er mindre enn p eller ikke. Dersom verdien er større enn p, markerer vi denne siten som set, altså kan en virrevandrer okkupere siten. Hvert område som består av flere sammenkoblede (nearest neighbor connectivity) okkuperte sites kalles en cluster. Størrelsen på et cluster er definert ut ifra antall sites. "
   ]
  },
  {
   "cell_type": "markdown",
   "metadata": {},
   "source": [
    "###  How to analyze and visualize the systems?"
   ]
  },
  {
   "cell_type": "markdown",
   "metadata": {},
   "source": [
    "Vi visualiserer systemet ved å tilegne hver cluster og enslige okkuperte sites en label i form av et tall, slik at systemet vårt nå består heltall. "
   ]
  },
  {
   "cell_type": "code",
   "execution_count": 42,
   "metadata": {},
   "outputs": [],
   "source": [
    "import numpy as np\n",
    "import scipy.ndimage as scpi\n",
    "import matplotlib.pyplot as plt\n",
    "\n",
    "np.random.seed(42)\n",
    "p = 0.5927\n",
    "L = 20\n",
    "domain = np.random.rand(L, L)\n",
    "binary_domain = domain < p\n",
    "label, num = scpi.measurements.label(binary_domain)\n",
    "b = np.arange(label.max() + 1)\n",
    "np.random.shuffle(b)\n",
    "shuffledLabels = b[label]"
   ]
  },
  {
   "cell_type": "code",
   "execution_count": 44,
   "metadata": {},
   "outputs": [
    {
     "ename": "SyntaxError",
     "evalue": "invalid syntax (<ipython-input-44-e5503edd69ec>, line 7)",
     "output_type": "error",
     "traceback": [
      "\u001b[1;36m  File \u001b[1;32m\"<ipython-input-44-e5503edd69ec>\"\u001b[1;36m, line \u001b[1;32m7\u001b[0m\n\u001b[1;33m    plt.show()*\u001b[0m\n\u001b[1;37m               ^\u001b[0m\n\u001b[1;31mSyntaxError\u001b[0m\u001b[1;31m:\u001b[0m invalid syntax\n"
     ]
    }
   ],
   "source": [
    "plt.imshow(binary_domain, origin='lower')\n",
    "plt.title(f'p = {p}, L={L}')\n",
    "plt.show()\n",
    "\n",
    "plt.imshow(shuffledLabels, origin='lower')\n",
    "plt.title(f'Clusters, p={p}, L={L}')\n",
    "plt.show()"
   ]
  },
  {
   "cell_type": "markdown",
   "metadata": {},
   "source": [
    "For å finne et spanning cluster ser vi på "
   ]
  },
  {
   "cell_type": "code",
   "execution_count": null,
   "metadata": {},
   "outputs": [],
   "source": []
  },
  {
   "cell_type": "code",
   "execution_count": null,
   "metadata": {},
   "outputs": [],
   "source": []
  }
 ],
 "metadata": {
  "kernelspec": {
   "display_name": "Python 3",
   "language": "python",
   "name": "python3"
  },
  "language_info": {
   "codemirror_mode": {
    "name": "ipython",
    "version": 3
   },
   "file_extension": ".py",
   "mimetype": "text/x-python",
   "name": "python",
   "nbconvert_exporter": "python",
   "pygments_lexer": "ipython3",
   "version": "3.7.7"
  }
 },
 "nbformat": 4,
 "nbformat_minor": 4
}
