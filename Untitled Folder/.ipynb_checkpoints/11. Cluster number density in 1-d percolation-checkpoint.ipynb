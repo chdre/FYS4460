{
 "cells": [
  {
   "cell_type": "markdown",
   "metadata": {},
   "source": [
    "### Cluster number density"
   ]
  },
  {
   "cell_type": "markdown",
   "metadata": {},
   "source": [
    "Cluster number density angir sannsynligheten for at et site er et spesifikt site i en cluster av størrelse s. Sannsynligheten for at et site er okkupert er $p$, og følgelig $1-p$ for at det ikke er okkupert. Et cluster av størrelse s i en uendelig lattice antas å ha to uokkuperte sites på hver sin side, sannsynligheten for dette er $(1-p)^2$, mens sannsynligheten for s okkuperte sites er $p^s$. Vi definerer da $n(s,p)$ for et uendelig langt lattice\n",
    "\n",
    "\\begin{equation}\n",
    "    n(s,p) = (1 - p)^2p^s\n",
    "\\end{equation}\n",
    "\n",
    "hvor s er cluster size og p er sannsynligheten for at et site er okkupert. Dersom vi er interessert i sannsynligheten for at et site er et hvilket som helst site i en cluster av størrelse s multipliserer vi med s, siden sannsynligheten er lik for alle sites i clusteret. Vi får da \n",
    "\n",
    "\\begin{equation}\n",
    "    sn(s,p) = s(1 - p)^2p^2.\n",
    "\\end{equation}\n",
    "\n"
   ]
  },
  {
   "cell_type": "markdown",
   "metadata": {},
   "source": [
    "### Måle cluster number density"
   ]
  },
  {
   "cell_type": "markdown",
   "metadata": {},
   "source": [
    "Ettersom cluster number density er et mål på tettheten av clusters av en gitt størrelse kan vi telle antall clusters av en gitt størrelse og dele på totalt antall sites\n",
    "\n",
    "\\begin{equation}\n",
    "\\overline{sn(s, p)} = \\frac{sN_s}{L} \\Rightarrow \\overline{n(s,p)} = \\frac{N_s}{L}\n",
    "\\end{equation}\n",
    "\n",
    "hvor $N_s$ er antall cluster av størrelse s. Dette gjelder generelt for alle dimensjoner, såfremt vi erstatter $L = L^d$. Dersom vi ønsker å regne ut $n(s,p)$ numerisk kan vi benytte et histogram med bin size $\\Delta s$:\n",
    "\n",
    "\\begin{equation}\n",
    "    \\overline{n(s,p)} \\approx \\frac{N_{s,s+\\Delta s}}{L\\Delta s}\n",
    "\\end{equation}"
   ]
  },
  {
   "cell_type": "markdown",
   "metadata": {},
   "source": [
    "### Oppførsel når $p \\rightarrow p_c$"
   ]
  },
  {
   "cell_type": "markdown",
   "metadata": {},
   "source": [
    "For 1d har vi et spanning cluster først når alle sites er set, følgelig er $p_c = 1$ for 1d. Når $p \\rightarrow p_c$ øker vi sannsynligheten for at systemet perkolerer, og vi får færre individuelle clusters. Vi ser fra\n",
    "\n",
    "\\begin{equation}\n",
    "    n(s,p) = (1 - p)^2p^s\n",
    "\\end{equation}\n",
    "\n",
    "at cluster number density går mot 0 når $p \\rightarrow 1$ og clusteret vil nå system størrelsen."
   ]
  },
  {
   "cell_type": "code",
   "execution_count": 14,
   "metadata": {},
   "outputs": [
    {
     "name": "stdout",
     "output_type": "stream",
     "text": [
      "[1, 1, 1, 1, 1, 1, 1, 1, 1, 1, 1, 1, 1, 1, 1, 1, 1, 1, 1, 1, 1, 1, 1, 1, 1]\n",
      "[1, 1, 1, 1, 1, 1, 1]\n",
      "[1, 1, 1]\n",
      "[1, 1]\n",
      "[]\n"
     ]
    },
    {
     "ename": "ValueError",
     "evalue": "zero-size array to reduction operation maximum which has no identity",
     "output_type": "error",
     "traceback": [
      "\u001b[0;31m---------------------------------------------------------------------------\u001b[0m",
      "\u001b[0;31mValueError\u001b[0m                                Traceback (most recent call last)",
      "\u001b[0;32m<ipython-input-14-cb1cc7436087>\u001b[0m in \u001b[0;36m<module>\u001b[0;34m\u001b[0m\n\u001b[1;32m     17\u001b[0m     \u001b[0marea\u001b[0m \u001b[0;34m=\u001b[0m \u001b[0mn_area\u001b[0m\u001b[0;34m(\u001b[0m\u001b[0mL\u001b[0m\u001b[0;34m,\u001b[0m \u001b[0mprob\u001b[0m\u001b[0;34m,\u001b[0m \u001b[0mN\u001b[0m\u001b[0;34m)\u001b[0m\u001b[0;34m\u001b[0m\u001b[0;34m\u001b[0m\u001b[0m\n\u001b[1;32m     18\u001b[0m     \u001b[0mprint\u001b[0m\u001b[0;34m(\u001b[0m\u001b[0marea\u001b[0m\u001b[0;34m)\u001b[0m\u001b[0;34m\u001b[0m\u001b[0;34m\u001b[0m\u001b[0m\n\u001b[0;32m---> 19\u001b[0;31m     \u001b[0msl\u001b[0m\u001b[0;34m,\u001b[0m \u001b[0mnsl\u001b[0m \u001b[0;34m=\u001b[0m \u001b[0mlog_binning1d\u001b[0m\u001b[0;34m(\u001b[0m\u001b[0marea\u001b[0m\u001b[0;34m,\u001b[0m \u001b[0mbase_log\u001b[0m\u001b[0;34m,\u001b[0m \u001b[0mL\u001b[0m\u001b[0;34m,\u001b[0m \u001b[0mN\u001b[0m\u001b[0;34m)\u001b[0m\u001b[0;34m\u001b[0m\u001b[0;34m\u001b[0m\u001b[0m\n\u001b[0m\u001b[1;32m     20\u001b[0m     \u001b[0mi\u001b[0m \u001b[0;34m=\u001b[0m \u001b[0mnp\u001b[0m\u001b[0;34m.\u001b[0m\u001b[0mnonzero\u001b[0m\u001b[0;34m(\u001b[0m\u001b[0mnsl\u001b[0m\u001b[0;34m)\u001b[0m\u001b[0;34m\u001b[0m\u001b[0;34m\u001b[0m\u001b[0m\n\u001b[1;32m     21\u001b[0m     \u001b[0msl_list_p1\u001b[0m\u001b[0;34m.\u001b[0m\u001b[0mappend\u001b[0m\u001b[0;34m(\u001b[0m\u001b[0msl\u001b[0m\u001b[0;34m[\u001b[0m\u001b[0mi\u001b[0m\u001b[0;34m]\u001b[0m\u001b[0;34m)\u001b[0m\u001b[0;34m\u001b[0m\u001b[0;34m\u001b[0m\u001b[0m\n",
      "\u001b[0;32m<ipython-input-12-3eefd500e1f6>\u001b[0m in \u001b[0;36mlog_binning1d\u001b[0;34m(data, a, L, N)\u001b[0m\n\u001b[1;32m     10\u001b[0m         \u001b[0mnsl\u001b[0m\u001b[0;34m:\u001b[0m\u001b[0;34m\u001b[0m\u001b[0;34m\u001b[0m\u001b[0m\n\u001b[1;32m     11\u001b[0m     \"\"\"\n\u001b[0;32m---> 12\u001b[0;31m     \u001b[0mlogamax\u001b[0m \u001b[0;34m=\u001b[0m \u001b[0mnp\u001b[0m\u001b[0;34m.\u001b[0m\u001b[0mceil\u001b[0m\u001b[0;34m(\u001b[0m\u001b[0mnp\u001b[0m\u001b[0;34m.\u001b[0m\u001b[0mlog\u001b[0m\u001b[0;34m(\u001b[0m\u001b[0mnp\u001b[0m\u001b[0;34m.\u001b[0m\u001b[0mmax\u001b[0m\u001b[0;34m(\u001b[0m\u001b[0mdata\u001b[0m\u001b[0;34m)\u001b[0m\u001b[0;34m)\u001b[0m\u001b[0;34m)\u001b[0m \u001b[0;34m/\u001b[0m \u001b[0mnp\u001b[0m\u001b[0;34m.\u001b[0m\u001b[0mlog\u001b[0m\u001b[0;34m(\u001b[0m\u001b[0ma\u001b[0m\u001b[0;34m)\u001b[0m\u001b[0;34m\u001b[0m\u001b[0;34m\u001b[0m\u001b[0m\n\u001b[0m\u001b[1;32m     13\u001b[0m     \u001b[0mlogbins\u001b[0m \u001b[0;34m=\u001b[0m \u001b[0ma\u001b[0m\u001b[0;34m**\u001b[0m\u001b[0mnp\u001b[0m\u001b[0;34m.\u001b[0m\u001b[0marange\u001b[0m\u001b[0;34m(\u001b[0m\u001b[0;36m0\u001b[0m\u001b[0;34m,\u001b[0m \u001b[0mlogamax\u001b[0m\u001b[0;34m)\u001b[0m\u001b[0;34m\u001b[0m\u001b[0;34m\u001b[0m\u001b[0m\n\u001b[1;32m     14\u001b[0m \u001b[0;34m\u001b[0m\u001b[0m\n",
      "\u001b[0;32m<__array_function__ internals>\u001b[0m in \u001b[0;36mamax\u001b[0;34m(*args, **kwargs)\u001b[0m\n",
      "\u001b[0;32m~/anaconda3/lib/python3.7/site-packages/numpy/core/fromnumeric.py\u001b[0m in \u001b[0;36mamax\u001b[0;34m(a, axis, out, keepdims, initial, where)\u001b[0m\n\u001b[1;32m   2666\u001b[0m     \"\"\"\n\u001b[1;32m   2667\u001b[0m     return _wrapreduction(a, np.maximum, 'max', axis, None, out,\n\u001b[0;32m-> 2668\u001b[0;31m                           keepdims=keepdims, initial=initial, where=where)\n\u001b[0m\u001b[1;32m   2669\u001b[0m \u001b[0;34m\u001b[0m\u001b[0m\n\u001b[1;32m   2670\u001b[0m \u001b[0;34m\u001b[0m\u001b[0m\n",
      "\u001b[0;32m~/anaconda3/lib/python3.7/site-packages/numpy/core/fromnumeric.py\u001b[0m in \u001b[0;36m_wrapreduction\u001b[0;34m(obj, ufunc, method, axis, dtype, out, **kwargs)\u001b[0m\n\u001b[1;32m     88\u001b[0m                 \u001b[0;32mreturn\u001b[0m \u001b[0mreduction\u001b[0m\u001b[0;34m(\u001b[0m\u001b[0maxis\u001b[0m\u001b[0;34m=\u001b[0m\u001b[0maxis\u001b[0m\u001b[0;34m,\u001b[0m \u001b[0mout\u001b[0m\u001b[0;34m=\u001b[0m\u001b[0mout\u001b[0m\u001b[0;34m,\u001b[0m \u001b[0;34m**\u001b[0m\u001b[0mpasskwargs\u001b[0m\u001b[0;34m)\u001b[0m\u001b[0;34m\u001b[0m\u001b[0;34m\u001b[0m\u001b[0m\n\u001b[1;32m     89\u001b[0m \u001b[0;34m\u001b[0m\u001b[0m\n\u001b[0;32m---> 90\u001b[0;31m     \u001b[0;32mreturn\u001b[0m \u001b[0mufunc\u001b[0m\u001b[0;34m.\u001b[0m\u001b[0mreduce\u001b[0m\u001b[0;34m(\u001b[0m\u001b[0mobj\u001b[0m\u001b[0;34m,\u001b[0m \u001b[0maxis\u001b[0m\u001b[0;34m,\u001b[0m \u001b[0mdtype\u001b[0m\u001b[0;34m,\u001b[0m \u001b[0mout\u001b[0m\u001b[0;34m,\u001b[0m \u001b[0;34m**\u001b[0m\u001b[0mpasskwargs\u001b[0m\u001b[0;34m)\u001b[0m\u001b[0;34m\u001b[0m\u001b[0;34m\u001b[0m\u001b[0m\n\u001b[0m\u001b[1;32m     91\u001b[0m \u001b[0;34m\u001b[0m\u001b[0m\n\u001b[1;32m     92\u001b[0m \u001b[0;34m\u001b[0m\u001b[0m\n",
      "\u001b[0;31mValueError\u001b[0m: zero-size array to reduction operation maximum which has no identity"
     ]
    }
   ],
   "source": [
    "import numpy as np\n",
    "import matplotlib.pyplot as plt\n",
    "import scipy.ndimage as scpi\n",
    "import skimage.measure as skm\n",
    "\n",
    "L = 200\n",
    "p = np.arange(0.98, 0.999, 0.003)\n",
    "N = 1000\n",
    "\n",
    "base_log = 1.2\n",
    "\n",
    "sl_list_p1 = []\n",
    "nsl_list_p1 = []\n",
    "legends_p1 = []\n",
    "\n",
    "for prob in p:\n",
    "    area = n_area(L, prob, N)\n",
    "    print(area)\n",
    "    sl, nsl = log_binning1d(area, base_log, L, N)\n",
    "    i = np.nonzero(nsl)\n",
    "    sl_list_p1.append(sl[i])\n",
    "    nsl_list_p1.append(nsl[i])\n",
    "    legends_p1.append(f'p={prob:.2f}')"
   ]
  },
  {
   "cell_type": "markdown",
   "metadata": {},
   "source": [
    "### Relatert til 2d simulasjon"
   ]
  },
  {
   "cell_type": "markdown",
   "metadata": {},
   "source": []
  },
  {
   "cell_type": "code",
   "execution_count": 12,
   "metadata": {},
   "outputs": [],
   "source": [
    "def log_binning1d(data, a, L, N):\n",
    "    \"\"\"\n",
    "    Arguments:\n",
    "        Data:\n",
    "        a: log base\n",
    "        L: length of system in x and y\n",
    "        N: number of cycles\n",
    "    Returns:\n",
    "        sl: \n",
    "        nsl: \n",
    "    \"\"\"\n",
    "    logamax = np.ceil(np.log(np.max(data))) / np.log(a)\n",
    "    logbins = a**np.arange(0, logamax)\n",
    "\n",
    "    nl, nlbins = np.histogram(data, bins=logbins)\n",
    "    \n",
    "    ds = np.diff(logbins)\n",
    "    sl = 0.5 * (logbins[1:] + logbins[:-1])\n",
    "    nsl = nl / (N * L * ds)\n",
    "    \n",
    "    return sl, nsl"
   ]
  },
  {
   "cell_type": "code",
   "execution_count": 10,
   "metadata": {},
   "outputs": [],
   "source": [
    "def n_area(L, p, N):\n",
    "    allarea = []\n",
    "\n",
    "    for pi in p:\n",
    "        domain = np.random.rand(L)\n",
    "        binary_domain = domain < pi\n",
    "        labels, num = scpi.measurements.label(binary_domain)\n",
    "        labelList = np.arange(labels.max() + 1)\n",
    "        area = scpi.measurements.sum(binary_domain, labels, labelList)\n",
    "        allarea.append(area)\n",
    "    return all_area"
   ]
  },
  {
   "cell_type": "code",
   "execution_count": null,
   "metadata": {},
   "outputs": [],
   "source": []
  }
 ],
 "metadata": {
  "kernelspec": {
   "display_name": "Python 3",
   "language": "python",
   "name": "python3"
  },
  "language_info": {
   "codemirror_mode": {
    "name": "ipython",
    "version": 3
   },
   "file_extension": ".py",
   "mimetype": "text/x-python",
   "name": "python",
   "nbconvert_exporter": "python",
   "pygments_lexer": "ipython3",
   "version": "3.7.6"
  }
 },
 "nbformat": 4,
 "nbformat_minor": 4
}
