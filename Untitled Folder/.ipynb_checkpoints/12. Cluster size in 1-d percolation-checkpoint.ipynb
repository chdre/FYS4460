{
 "cells": [
  {
   "cell_type": "markdown",
   "metadata": {},
   "source": [
    "### Introdusér karakteristisk cluster size for 1-d perkolasjon"
   ]
  },
  {
   "cell_type": "markdown",
   "metadata": {},
   "source": [
    "For 1d har vi at cluster number density er gitt ved \n",
    "\n",
    "\\begin{equation}\n",
    "n(s,p) = (1 - p)^2 p^s\n",
    "\\end{equation}\n",
    "\n",
    "for et uendelig lattice, $p$ er sannsynligheten for at et site er okkupert (følgelig er $1-p$ sannsynligheten for ikke-okkupert) og s er antall sites i et cluster. Plotter $n(s,p)(1 - p)^{-2} = p^s$ og ser at når $p \\rightarrow p_c = 1$ avtar funksjonen eksponentielt ved en spesifikk verdi for $s = s_{\\xi}$. $s_{\\xi}$ tolkes til å være den typiske største størrelsen for et cluster for en gitt p. "
   ]
  },
  {
   "cell_type": "code",
   "execution_count": 63,
   "metadata": {},
   "outputs": [
    {
     "data": {
      "image/png": "[encoded data removed]",
      "text/plain": [
       "<Figure size 432x288 with 1 Axes>"
      ]
     },
     "metadata": {
      "needs_background": "light"
     },
     "output_type": "display_data"
    }
   ],
   "source": [
    "import numpy as np\n",
    "import matplotlib.pyplot as plt\n",
    "np.seterr(divide='ignore')\n",
    "\n",
    "p = [0.9, 0.99, 0.999]\n",
    "s = np.arange(1, 1000000, 100)\n",
    "    \n",
    "for i in range(len(p)):\n",
    "    n = (1 - p[i])**2 * p[i]**s\n",
    "    plt.plot(np.log(s), np.log(n * (1 - p[i])**(-2)), label=f'p={p[i]}')\n",
    "plt.legend()\n",
    "plt.xlabel('$\\\\log (s)$')\n",
    "plt.ylabel('$\\\\log( n(s,p)(1-p)^{-2} )$')\n",
    "plt.show()"
   ]
  },
  {
   "cell_type": "markdown",
   "metadata": {},
   "source": [
    "For å finne en verdi for $s_{\\xi}$ skriver vi om $n(s,p)$\n",
    "\n",
    "\\begin{equation}\n",
    "    n(s,p) = (1 - p)^2 e^{\\ln p^s} = (1-p)^2 e^{s \\ln p} = (1-p)^2 e^{-s / s_{\\xi}}\n",
    "\\end{equation}\n",
    "\n",
    "hvor vi nå har introdusert\n",
    "\n",
    "\\begin{equation}\n",
    "    s_{\\xi} = \\frac{-1 }{ \\ln p}.\n",
    "\\end{equation}"
   ]
  },
  {
   "cell_type": "markdown",
   "metadata": {},
   "source": [
    "### $p \\rightarrow p_c$"
   ]
  },
  {
   "cell_type": "markdown",
   "metadata": {},
   "source": [
    "Vi ser fra $s_{\\xi} = -1 / \\ln p$ at $s_{\\xi}$ divergerer når $p \\rightarrow 1$, som samsvarer med intuisjonen vår for et 1d uendelig lattice; når $p\\rightarrow p_c$ vil clusteret oppta hele systemstørrelsen. Dersom vi Taylerekspanderer $\\ln p$:\n",
    "\n",
    "\\begin{equation}\n",
    "    \\ln p = \\ln (1 - (1-p)) \\approx -(1-p) \\quad \\text{Fra:} \\ln(1-x) = -x + O(x^2),\n",
    "\\end{equation}\n",
    "\n",
    "Vi har da at \n",
    "\n",
    "\\begin{equation}\n",
    "    s_{\\xi} = \\frac{1}{1 - p} = \\frac{1}{p_c - p} = |p - p_c|^{-1/\\sigma}\n",
    "\\end{equation}\n",
    "\n",
    "for $p \\rightarrow p_c$.\n"
   ]
  },
  {
   "cell_type": "markdown",
   "metadata": {},
   "source": []
  }
 ],
 "metadata": {
  "kernelspec": {
   "display_name": "Python 3",
   "language": "python",
   "name": "python3"
  },
  "language_info": {
   "codemirror_mode": {
    "name": "ipython",
    "version": 3
   },
   "file_extension": ".py",
   "mimetype": "text/x-python",
   "name": "python",
   "nbconvert_exporter": "python",
   "pygments_lexer": "ipython3",
   "version": "3.7.6"
  }
 },
 "nbformat": 4,
 "nbformat_minor": 4
}
