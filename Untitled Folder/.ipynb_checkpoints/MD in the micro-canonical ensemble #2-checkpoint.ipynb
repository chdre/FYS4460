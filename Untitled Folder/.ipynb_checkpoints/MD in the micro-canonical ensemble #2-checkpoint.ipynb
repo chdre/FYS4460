{
 "cells": [
  {
   "cell_type": "markdown",
   "metadata": {},
   "source": [
    "# MD in the micro-canonical ensemble #2"
   ]
  },
  {
   "cell_type": "raw",
   "metadata": {},
   "source": [
    "Måle makroskopiske kvantiteter (slik som temperatur og trykk):\n",
    "    Finner instantan temperatur fra \n",
    "    $<K> = <1/2 mv^2> = 1/2 k_B T \\Rightarrow T(t) = \\sum_i m_iv_i^2(t) / k_B N_f$, hvor $N_f$ er antall frihetsgrader.\n",
    "    Tetthet finner vi fra $\\rho V = Nk_B T$\n",
    "    Trykk, gj.snittlig, $P = \\rho k_B T + 1 / (3V) \\sum_{i<j} F_{ij}\\cdot r_{ij}$, ij: partikkelpar\n",
    "    Hastighet: gjennomsnittlig hastighet\n",
    "    msd: <r^2(t)>\n",
    "    Total energi: \n",
    "\n",
    "Lammps:\n",
    "    Temperaturen på en gitt gruppe atomer: compute temp, som bruker kinetisk energi for å finne instantan temperatur, slik som ovenfor. \n",
    "    Trykk: $P = Nk_B T / V + \\sum_i^{N^'}r_i \\dot f_i / dV$, hvor d = dimensjonaliteten. Andre ledd virialet ($-dU/dV$)\n",
    "    rdf: lager i antall bins fra origo og ut, ellers samme som ovenfor. \n",
    "    msd: <dx^ + dy^2 + dz^2>, di: forflytning i = x,y,z\n",
    "    Tetthet: \n",
    "    \n",
    "\n",
    "Utfordringer: ?\n",
    "    \n",
    "\n",
    "Hva kan det brukes til:\n",
    "    Temperatur kan benyttes til å finne gjennomsnittlig kinetisk energi -> gj.sn. hastighet \n",
    "    Diffusjon: fra msd\n",
    "    Diffusjonskonstant: (endringen av msd) / (endring av t/$\\tau$) = stiningstallet til msd som funksjon av t/$\\tau$. Kan brukes til å finne faseoverganger\n",
    "    \n"
   ]
  },
  {
   "cell_type": "code",
   "execution_count": null,
   "metadata": {},
   "outputs": [],
   "source": []
  },
  {
   "cell_type": "code",
   "execution_count": null,
   "metadata": {},
   "outputs": [],
   "source": []
  }
 ],
 "metadata": {
  "kernelspec": {
   "display_name": "Python 3",
   "language": "python",
   "name": "python3"
  },
  "language_info": {
   "codemirror_mode": {
    "name": "ipython",
    "version": 3
   },
   "file_extension": ".py",
   "mimetype": "text/x-python",
   "name": "python",
   "nbconvert_exporter": "python",
   "pygments_lexer": "ipython3",
   "version": "3.7.3"
  }
 },
 "nbformat": 4,
 "nbformat_minor": 2
}
