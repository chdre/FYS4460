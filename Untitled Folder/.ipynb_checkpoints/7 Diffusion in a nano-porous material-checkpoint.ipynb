{
 "cells": [
  {
   "cell_type": "raw",
   "metadata": {},
   "source": [
    "Hvordan kan du måle diffusjons konstanten for an fluid med lav tetthet i et nanoporøst system:\n",
    "    - For å lage en fluid med lavere tetthet fjerner vi halvparten av partiklene i poren. I våre simulasjoner har vi laget et system med 20 potensielt overlappende sfærer med radius mellom 2 og 3 nm, som er tilfeldige plassert i systemet, disse tilsammen utgjør poren i systemet. Vi velger tilfeldig halvparten av partiklene i poren og fjerner disse for å redusere tettheten. \n",
    "    - Ved å se på mean squared displacement til partiklene kan vi finne diffusjonskonstanten. Vi ser at msd blir lineær ganske tidlig i simulasjonen. \n",
    "    -PLOT MSD\n",
    "    - Vi har at $\\langle r^2 \\rangle = 6Dt = D't$, finner diffusjonskonstanten $D = D'/6$ som stigningstallet til $\\langle r^2(t) \\rangle$. Dette gir $D = 0.510$ Å$^2$/ps. Vi forventer at diffusjonskonstanten, som er et mål på hvor langt partiklene beveger seg pr. tid er større enn det den er for en tettere Argon fluid. Jo lavere tetthet, desto mindre viskøs er væsken, altså væsken er mindre \"motstandsdyktig\" mot bevegelse.\n",
    "    - PLOT MSD ARGON GASS\n",
    "    - For en Argongass uten porer med ellers like parametre får vi en diffusjonskonstant på 0.137 Å$^2$/ps, som bekrefter at msd øker med lavere tetthet.\n",
    "    - PLOT AV DIFF KONST FOR VANN\n",
    "    - Sammenlikner med et fluid. Vi så tidligere på vann, sammenliknet ser vi at diffusjonskonstanten for vann er noe større, men i samme størrelsesorden. \n",
    "    - \n",
    "    - Vi gjenkjenner et porøst system med de systemene vi så på i perkolasjonsteori. Porositeten $\\phi$ er i teorien det samme som perkolasjonssannsynligheten. Dersom vi i perkolasjonsteori øker sannsynligheten p for at et site er okkupert, svarer dette til å øke porositeten til systemet. For å simulere bulk fluid ser vi på tilfellet der $p = 1$, vi har altså ingen matrise i systemet, kun fluid. Vi forventer her at diffusjonen går lineært med tid ettersom virrevandreren får bevege seg fritt, altså at $\\langle r^2 \\rangle = t$, med diffusjonskonstant 1. \n",
    "    - Når $p > p_c$ forventer vi at diffusjonen går lineært, men avtagende når p blir mindre.\n",
    "    - PLOT D(P)\n",
    "    "
   ]
  },
  {
   "cell_type": "code",
   "execution_count": null,
   "metadata": {},
   "outputs": [],
   "source": []
  }
 ],
 "metadata": {
  "kernelspec": {
   "display_name": "Python 3",
   "language": "python",
   "name": "python3"
  },
  "language_info": {
   "codemirror_mode": {
    "name": "ipython",
    "version": 3
   },
   "file_extension": ".py",
   "mimetype": "text/x-python",
   "name": "python",
   "nbconvert_exporter": "python",
   "pygments_lexer": "ipython3",
   "version": "3.7.7"
  }
 },
 "nbformat": 4,
 "nbformat_minor": 4
}
