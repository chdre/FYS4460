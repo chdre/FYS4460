{
 "cells": [
  {
   "cell_type": "markdown",
   "metadata": {},
   "source": [
    "# 1 Molecular-dynamics algorithms\n",
    "Discuss the algorithms for molecular-dynamics modeling: Potentials, integration, cut-off, periodic boundary conditions, initialization, efficiency improvements"
   ]
  },
  {
   "cell_type": "raw",
   "metadata": {},
   "source": [
    "Potentials:\n",
    "    LJ\n",
    "    Stillinger-Weber: likt LJ\n",
    "Integration:\n",
    "    Verlet\n",
    "        - pros/cons\n",
    "Cut-off:\n",
    "    LJ\n",
    "    Hva gjør cut-off? Matte. Angir effektive avstanden mellom partikler som bestemmer hvorvidt vi regner ut inter-atomære krefter\n",
    "Periodic boundary conditions:\n",
    "    For å simulere store systemer og unngå kompliserte effekter fra grense på system. I praksis blir da simulasjonsområdet uendelig stort. Antar at partikkeltettheten er slik at når en partikkel forsvinner ut av simulasjonsområdet, vil en annen partikkel ta dens plass. Cut-off må være mindre enn halvparten av systemstørrelsen for å unngå at en partikkel påvirker seg selv.\n",
    "Initialization:\n",
    "    Initialiserer hastighetene til partiklene ved å sette temperaturen til systemet. I praksis betyr dette at vi setter bestemmer gjennomsnittshastigheten til partiklene. $<1/2 mv^2> = 1/2 k_B T$. Partiklene følger ikke en Maxwell-Boltzmann distribusjon ved initialisering (Gaussisk/Uniform isteden). Vil gå mot en Maxwell-Boltzmann distribusjon etterhvert.\n",
    "    \n",
    "Efficiency improvements:\n",
    "    Redusere cut-off (på bekostning av nøyaktighet)\n",
    "    "
   ]
  },
  {
   "cell_type": "markdown",
   "metadata": {},
   "source": [
    "## Potensialer\n",
    "\n",
    "Vi antar at den potensielle energien i systemet er avhengig av posisjonene til partiklene\n",
    "\n",
    "\\begin{equation}\n",
    "U = U(\\{\\mathbf{r}_i\\}) = \\sum_{ij}U_{ij}(\\mathbf{r}_i, \\mathbf{r}_j) + \\sum_{ijk}(\\mathbf{r}_i\\mathbf{r}_j\\mathbf{r}_k) + ...\n",
    "\\end{equation}\n",
    "\n",
    "hvor første ledd svarer to tilpartikkel-interaksjoner, mens andre ledd til trepartikkel-interaksjoner, og videre."
   ]
  },
  {
   "cell_type": "markdown",
   "metadata": {},
   "source": [
    "For topartikkel-interaksjoner bruker vi\n",
    "\n",
    "#### Lennard jones\n",
    "\n",
    "\\begin{equation}\n",
    "V(r) = 4\\epsilon\\left(\\frac{1}{(r/\\sigma)^{12}} - \\frac{1}{(r/\\sigma)^6}\\right)\n",
    "\\end{equation}\n",
    "\n",
    "hvor det første leddet svarer til frastøtningskraften, hvor eksponenten 12 benyttes da det gir en god approksimasjon for oppførselen til Argon. Det andre leddet svarer til tiltrekning som følge av en dipol-dipol interaksjon. $\\sigma$ er den karakteristiske lengden, mens $\\epsilon$ er den karakterisiske energien. "
   ]
  },
  {
   "cell_type": "markdown",
   "metadata": {},
   "source": [
    "#### Stillinger-Weber\n",
    "\\begin{equation}\n",
    "V = \\sum_i \\sum_j V_2(r_{ij}) + \\sum_i \\sum_j \\sum_k V_3(r_{ij}, r_{ik}, \\theta_{ijk}),\n",
    "\\end{equation}\n",
    "\n",
    "hvor \n",
    "\n",
    "\\begin{equation}\n",
    "V_2(r_{ij} = A_{ij}\\epsilon_{ij}\\left[B_{ij}\\left(\\frac{\\sigma_{ij}}{r_{ij}}\\right)^{p_{ij}} - \\left(\\frac{\\sigma_{ij}}{r_{ij}}\\right)^{q_{ij}}\\right] \\exp\\left(\\frac{\\sigma_{ij}}{r_{ij} - a_{ij}\\sigma_{ij}}\\right)\n",
    "\\end{equation}\n",
    "\n",
    "og\n",
    "\n",
    "\\begin{equation}\n",
    "V_3(r_{ij}, r_{ik}, \\theta_{ijk}) = \\lambda_{ijk}\\epsilon_{ijk}\\left[\\cos\\theta_{ijk} - \\cos\\theta_{ijk,0}\\right]^2 \\exp\\left(\\frac{\\gamma_{ij}\\sigma_{ij}}{r_{ij} - a_{ij}\\sigma_{ij}}\\right)\\exp\\left(\\frac{\\gamma_{ik}\\sigma_{ik}}{r_{ik} - a_{ik}\\sigma_{ik}}\\right)\n",
    "\\end{equation}\n",
    "\n",
    "$V_2$ er to-partikkel leddet og $V_3$ er tre-partikkel leddet, $\\theta_{ijk}$ er vinkel mellom partikler og $a_{ij}$ er cutoff."
   ]
  },
  {
   "cell_type": "markdown",
   "metadata": {},
   "source": [
    "### Integrasjon - Velocity Verlet"
   ]
  },
  {
   "cell_type": "markdown",
   "metadata": {},
   "source": [
    "For å integrere Newtons ligninger bruker vi Velocity-Verlet integrasjon. Verlet er numerisk stabil, tidsreversibel, bevarer momentum  fullt og energi bra. Det er standard integrasjonen i Lammps. Velocity-Verlet regner ut hastighet ved hele og halve tidssteg, mens for det mest ressurskrevende, kreftene, regnes det kun hvert tidssteg. Algoritmen er gitt ved\n",
    "\n",
    "\\begin{align}\n",
    "\\mathbf{v}_i(t + \\Delta t / 2) &= \\mathbf{v}(t) + \\mathbf{F}_i(t) / m_i\\Delta t/2 \\\\\n",
    "\\mathbf{r}_i(t + \\Delta t) &= \\mathbf{r}(t) + \\mathbf{v}_i(t + \\Delta t/2) \\\\\n",
    "\\mathbf{F}_i(t + \\Delta t) &= -\\nabla V(\\mathbf{r}_i(t + \\Delta t) \\\\\n",
    "\\mathbf{v}_i(t + \\Delta t) &= \\mathbf{v}(t + \\Delta t/2) + \\mathbf{F}_i(t+\\Delta t)/m_i \\Delta t/2\n",
    "\\end{align}"
   ]
  },
  {
   "cell_type": "markdown",
   "metadata": {},
   "source": [
    "### Cut-off\n",
    "\n",
    "Vi definerer en effektiv avstand for når vi regner ut den potensielle energien for en partikkel. Vi regner kun kreftene som virker på en partikkel fra partiklene innenfor cut-off. Dersom partiklene er utenfor cut-off regner vi med at disse ikke påvirker parikkelen."
   ]
  },
  {
   "cell_type": "markdown",
   "metadata": {},
   "source": [
    "### Periodiske grensebetingelser\n",
    "\n",
    "Grunnet manglende datakraft kan vi ikke simulere veldig store systemet. Vi kan derimot sette periodiske grensebetingelser på systemet for å studere effekter av et uendelig stort systemer og samtidig unngå kompliserte effekter fra grense på system. Når vi setter periodiske grensebetingelser må vi sørge for at cut-off er mindre enn halvparten av systemstørrelsen for å unngå at en partikkel påvirker seg selv."
   ]
  },
  {
   "cell_type": "markdown",
   "metadata": {},
   "source": [
    "### Initialisering\n",
    "\n",
    "Vi initialiserer systemet ved å velge posisjoner og hastigheter til partiklene. For potensialer som eksempelvis LJ er det viktig at vi ikke plasserer partiklene for nærme, ettersom dette vil resultere i store frastøtningskrefter, som igjen vil være til at hastighetene blir veldig store når vi begynner å integrere systemet. \n",
    "\n",
    "Vi plasserer atomene jevnt i systemet ved å kontruere en unit cell med partikler. Unit cell blir så kopiert slik at den fyller hele systemet. \n",
    "\n",
    "For LJ vet vi at krystallstrukturen er lik en face centered cube. En FCC er slik at vi har en partikkel i $(0,0,0)$ og en partikkel i midten av flatene tilknyttet $(0,0,0)$."
   ]
  },
  {
   "cell_type": "markdown",
   "metadata": {},
   "source": [
    "### Effektivitet"
   ]
  },
  {
   "cell_type": "markdown",
   "metadata": {},
   "source": [
    "Vi kan redusere antall partikler som er involvert i kraftutregningen ved å gjøre cut-off mindre. \n",
    "\n"
   ]
  },
  {
   "cell_type": "code",
   "execution_count": null,
   "metadata": {},
   "outputs": [],
   "source": []
  }
 ],
 "metadata": {
  "kernelspec": {
   "display_name": "Python 3",
   "language": "python",
   "name": "python3"
  },
  "language_info": {
   "codemirror_mode": {
    "name": "ipython",
    "version": 3
   },
   "file_extension": ".py",
   "mimetype": "text/x-python",
   "name": "python",
   "nbconvert_exporter": "python",
   "pygments_lexer": "ipython3",
   "version": "3.7.6"
  }
 },
 "nbformat": 4,
 "nbformat_minor": 2
}
