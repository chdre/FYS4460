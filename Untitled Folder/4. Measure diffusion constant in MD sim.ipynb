{
 "cells": [
  {
   "cell_type": "raw",
   "metadata": {},
   "source": [
    "Hvordan måle diffusjonskonstant i md simulering:\n",
    "    - Ser på msd til partiklene i gassen for forskjellige initialtemperaturer. Plotter og ser en lineær oppførsel etter en tid t. msd følger $\\langle r^2(t) \\rangle = D(T)t$, og vi finner stigningstallet $D(T)$ ved å se på $D(T) = d\\langle r^2(t)\\rangle / dt$.\n",
    "    \n",
    "Begrensninger:\n",
    "    -  Må ha at mediet som diffunderer er isotropisk. $P(\\vec{u}_i)$ er lik for alle retninger. Vi kan derfor ikke modellere systemet når det eksempelvis er påvirket av en kraft som f.eks. tyngdekraften.\n",
    "    - Bevegelsene til partiklene må være uavhengige; partikkel i kan bevege seg $\\vec{u}_i$ uavhengig av bevegelsen til partikkel j.\n",
    "    $\\langle r_n^2 \\rangle = \\langle \\vec{r}_n \\cdot \\vec{r}_n \\rangle = \\langle \\sum_i^n \\vec{u}_i \\sum_j^n \\vec{u}_j \\rangle = \\langle \\sum_i^n \\sum_j^n \\vec{u}_i \\vec{u}_j \\rangle$\n",
    "    - Bevegelsene må være tilfeldige; snittet av alle steg må være 0; $\\langle r^2 \\rangle = \\langle \\sum_i^n \\vec{u}_i \\rangle = \\sum_i^n \\langle \\vec{u}_i \\rangle = 0$\n",
    "    \n",
    "Utfordringer:\n",
    "    - Ikke lineær msd\n",
    "    - Lang tid før systemet blir isotropt\n",
    "    - Periodiske grensebetingelser\n",
    "            - kan være vanskelig å holde styr på partiklene dersom man regner ut msd manuelt\n",
    "            - dersom ikke-periodiske grensebetingelser vil msd gå til et platå når mediet har diffundert over hele systemet\n",
    "    - Størrelse på system\n",
    "\n",
    "Resultater:\n",
    "    plot:\n",
    "        1) msd, D(T) Argon, LJ\n",
    "        2) msd, D(T) Argon, SW\n",
    "        3) msd, D(T) H2O\n",
    "        \n",
    "Sammenlikn med teoretiske estimat for diffusiv oppførsel:\n",
    "    - $\\langle r^2(t) \\rangle = (2d)Dt = 6Dt$ for 3D\n",
    "    - \n",
    "\n",
    "Forskjellen i potensialer:\n",
    "    LJ: $V(r) = 4\\epsilon[1/(r/\\sigma)^{12} - 1/(r/\\sigma)^6]\n",
    "    SW: V = \\sum_i \\sum_j V_2(r_{ij}) + \\sum_i \\sum_j \\sum_k V_3(r_{ij}, r_{ik}, \\theta_{ijk}),\n",
    "        hvor V_2(r_{ij} = A_{ij}\\epsilon_{ij}\\left[B_{ij}\\left(\\frac{\\sigma_{ij}}{r_{ij}}\\right)^{p_{ij}} - \\left(\\frac{\\sigma_{ij}}{r_{ij}}\\right)^{q_{ij}}\\right] \\exp\\left(\\frac{\\sigma_{ij}}{r_{ij} - a_{ij}\\sigma_{ij}}\\right) og V_3(r_{ij}, r_{ik}, \\theta_{ijk}) = \\lambda_{ijk}\\epsilon_{ijk}\\left[\\cos\\theta_{ijk} - \\cos\\theta_{ijk,0}\\right]^2 \\exp\\left(\\frac{\\gamma_{ij}\\sigma_{ij}}{r_{ij} - a_{ij}\\sigma_{ij}}\\right)\\exp\\left(\\frac{\\gamma_{ik}\\sigma_{ik}}{r_{ik} - a_{ik}\\sigma_{ik}}\\right)\n",
    "        hvor $V_2$ er to-partikkel leddet og $V_3$ er tre-partikkel leddet. $\\sigma_{ij}$ er stress, $\\theta_{ijk} er vinkel mellom partikler. a_{ij} er cutoff\n",
    "    SPCE: $V_{ij} = \\sum_i \\sum_j \\frac{k_c q_i q_j}{r_{ij}} + 4\\epsilon ((\\frac{\\sigma}{r_{OO, ij})^{12} - (\\frac{\\sigma}{r_{OO,ij})^6)$, hvor $r_{ij}$ er avstanden mellom punktladninger. $k_c$ er Coulomb konstanten, q er ladning.\n",
    "    \n",
    "    - LJ tar for seg intermolekylære interaksjoner mellom to partikler\n",
    "    - SW tar for seg intermolekylære interaksjoner mellom to og tre partikler, og vinkelen mellom de partiklene jk relativ til partikkel i. Topartikkel leddet er på samme form som LJ, men med en faktor\n",
    "    - SPCE tar for seg intermolekylære interaksjoner mellom to partikler og de elektrostatiske kreftene mellom dem. Topartikkel interaksjonen er på samme form som LJ. Tar lengst tid; mest krevende å regne ut de elektrostatiske kreftene"
   ]
  },
  {
   "cell_type": "markdown",
   "metadata": {},
   "source": [
    "### Potensialer\n",
    "\n",
    "#### Lennard jones\n",
    "\n",
    "\\begin{equation}\n",
    "V(r) = 4\\epsilon\\left(\\frac{1}{(r/\\sigma)^{12}} - \\frac{1}{(r/\\sigma)^6}\\right)\n",
    "\\end{equation}\n",
    "\n",
    "hvor det første leddet svarer til frastøtningskraften, hvor eksponenten 12 benyttes da det gir en god approksimasjon for oppførselen til Argon. Det andre leddet svarer til tiltrekning som følge av en dipol-dipol interaksjon. $\\sigma$ er den karakteristiske lengden, mens $\\epsilon$ er den karakterisiske energien. "
   ]
  },
  {
   "cell_type": "markdown",
   "metadata": {},
   "source": [
    "#### Stillinger-Weber\n",
    "\\begin{equation}\n",
    "V = \\sum_i \\sum_j V_2(r_{ij}) + \\sum_i \\sum_j \\sum_k V_3(r_{ij}, r_{ik}, \\theta_{ijk}),\n",
    "\\end{equation}\n",
    "\n",
    "hvor \n",
    "\n",
    "\\begin{equation}\n",
    "V_2(r_{ij} = A_{ij}\\epsilon_{ij}\\left[B_{ij}\\left(\\frac{\\sigma_{ij}}{r_{ij}}\\right)^{p_{ij}} - \\left(\\frac{\\sigma_{ij}}{r_{ij}}\\right)^{q_{ij}}\\right] \\exp\\left(\\frac{\\sigma_{ij}}{r_{ij} - a_{ij}\\sigma_{ij}}\\right)\n",
    "\\end{equation}\n",
    "\n",
    "og\n",
    "\n",
    "\\begin{equation}\n",
    "V_3(r_{ij}, r_{ik}, \\theta_{ijk}) = \\lambda_{ijk}\\epsilon_{ijk}\\left[\\cos\\theta_{ijk} - \\cos\\theta_{ijk,0}\\right]^2 \\exp\\left(\\frac{\\gamma_{ij}\\sigma_{ij}}{r_{ij} - a_{ij}\\sigma_{ij}}\\right)\\exp\\left(\\frac{\\gamma_{ik}\\sigma_{ik}}{r_{ik} - a_{ik}\\sigma_{ik}}\\right)\n",
    "\\end{equation}\n",
    "\n",
    "$V_2$ er to-partikkel leddet og $V_3$ er tre-partikkel leddet, $\\theta_{ijk}$ er vinkel mellom partikler og $a_{ij}$ er cutoff. SW tar for seg intermolekylære interaksjoner mellom to og tre partikler, og vinkelen mellom de partiklene jk relativ til partikkel i. Topartikkel-leddet er på samme form som LJ, men med en ekstra faktor."
   ]
  },
  {
   "cell_type": "markdown",
   "metadata": {},
   "source": [
    "#### SPCE\n",
    "\n",
    "\\begin{equation}\n",
    "V_{ij} = \\sum_i \\sum_j \\frac{k_c q_i q_j}{r_{ij}} + 4\\epsilon \\left(\\left(\\frac{\\sigma}{r_{OO, ij}}\\right)^{12} - \\left(\\frac{\\sigma}{r_{OO,ij}}\\right)^6 \\right)\n",
    "\\end{equation}\n",
    "\n",
    "SPCE tar for seg intermolekylære interaksjoner mellom to partikler og de elektrostatiske kreftene mellom dem. Topartikkel interaksjonen er på samme form som LJ."
   ]
  },
  {
   "cell_type": "markdown",
   "metadata": {},
   "source": []
  },
  {
   "cell_type": "code",
   "execution_count": null,
   "metadata": {},
   "outputs": [],
   "source": []
  }
 ],
 "metadata": {
  "kernelspec": {
   "display_name": "Python 3",
   "language": "python",
   "name": "python3"
  },
  "language_info": {
   "codemirror_mode": {
    "name": "ipython",
    "version": 3
   },
   "file_extension": ".py",
   "mimetype": "text/x-python",
   "name": "python",
   "nbconvert_exporter": "python",
   "pygments_lexer": "ipython3",
   "version": "3.7.6"
  }
 },
 "nbformat": 4,
 "nbformat_minor": 2
}
