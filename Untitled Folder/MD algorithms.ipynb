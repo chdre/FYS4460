{
 "cells": [
  {
   "cell_type": "markdown",
   "metadata": {},
   "source": [
    "# 1 Molecular-dynamics algorithms\n",
    "Discuss the algorithms for molecular-dynamics modeling: Potentials, integration, cut-off, periodic boundary conditions, initialization, efficiency improvements"
   ]
  },
  {
   "cell_type": "markdown",
   "metadata": {},
   "source": [
    "Potentials:\n",
    "    LJ\n",
    "    Stillinger-Weber: likt LJ\n",
    "Integration:\n",
    "    Verlet\n",
    "        - pros/cons\n",
    "Cut-off:\n",
    "    LJ\n",
    "    Hva gjør cut-off? Matte. Angir effektive avstanden mellom partikler som bestemmer hvorvidt vi regner ut inter-atomære krefter\n",
    "Periodic boundary conditions:\n",
    "    For å simulere store systemer og unngå kompliserte effekter fra grense på system. I praksis blir da simulasjonsområdet uendelig stort. Antar at partikkeltettheten er slik at når en partikkel forsvinner ut av simulasjonsområdet, vil en annen partikkel ta dens plass. Cut-off må være mindre enn halvparten av systemstørrelsen for å unngå at en partikkel påvirker seg selv.\n",
    "Initialization:\n",
    "    Initialiserer hastighetene til partiklene ved å sette temperaturen til systemet. I praksis betyr dette at vi setter bestemmer gjennomsnittshastigheten til partiklene. $<1/2 mv^2> = 1/2 k_B T$. Partiklene følger ikke en Maxwell-Boltzmann distribusjon ved initialisering (Gaussisk/Uniform isteden). Vil gå mot en Maxwell-Boltzmann distribusjon etterhvert.\n",
    "    \n",
    "Efficiency improvements:\n",
    "    Redusere cut-off (på bekostning av nøyaktighet)\n",
    "    "
   ]
  }
 ],
 "metadata": {
  "kernelspec": {
   "display_name": "Python 3",
   "language": "python",
   "name": "python3"
  },
  "language_info": {
   "codemirror_mode": {
    "name": "ipython",
    "version": 3
   },
   "file_extension": ".py",
   "mimetype": "text/x-python",
   "name": "python",
   "nbconvert_exporter": "python",
   "pygments_lexer": "ipython3",
   "version": "3.7.3"
  }
 },
 "nbformat": 4,
 "nbformat_minor": 2
}
