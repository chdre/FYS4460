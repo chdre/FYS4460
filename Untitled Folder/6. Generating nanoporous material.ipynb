{
 "cells": [
  {
   "cell_type": "raw",
   "metadata": {},
   "source": [
    "Lage en nanoporøs matrise med en gitt porositet i Lammps:\n",
    "    - Vi initialiserer matrisen og plasserer partikler. Porositeten er gitt ved $\\phi = V_p / V_{tot}$, hvor $V_p$ er volumet til poren(e). Vi definerer så en region (block, sylinder, sfære) med volum $V_p = \\phi V_{tot}$ som representerer poren. \n",
    "\n",
    "Karakterisere strukturen til et sånt materiale:\n",
    "    - Vi definerer en region i en gitt form, eksempelvis en blokk, en sylinder, en sfære eller annet. Plasserer region der vi ønsker den. Vi kan finne radius eller lengde på poren ved å løse $V_p = \\phi V_{tot}$, hvor vi setter inn formel for volum på regionen vi har valgt. \n",
    "    \n",
    "Dynamikken til fluid i et sånt materiale:\n",
    "    - Vi integrerer over partiklene i poren, og lar matrisen stå i ro ved å ikke integrere. \n",
    "    \n",
    "# Oppg c) porosity 0.46"
   ]
  }
 ],
 "metadata": {
  "kernelspec": {
   "display_name": "Python 3",
   "language": "python",
   "name": "python3"
  },
  "language_info": {
   "codemirror_mode": {
    "name": "ipython",
    "version": 3
   },
   "file_extension": ".py",
   "mimetype": "text/x-python",
   "name": "python",
   "nbconvert_exporter": "python",
   "pygments_lexer": "ipython3",
   "version": "3.7.7"
  }
 },
 "nbformat": 4,
 "nbformat_minor": 4
}
